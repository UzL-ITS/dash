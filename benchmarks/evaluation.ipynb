{
 "cells": [
  {
   "attachments": {},
   "cell_type": "markdown",
   "id": "44f84402-336a-4fb3-b73e-4b0f340252d7",
   "metadata": {},
   "source": [
    "# Evaluation of Dash\n",
    "## Imports"
   ]
  },
  {
   "cell_type": "code",
   "execution_count": 1,
   "id": "697843ab-e2e8-497a-b477-8df782fc4ac1",
   "metadata": {},
   "outputs": [],
   "source": [
    "import os\n",
    "from pathlib import Path\n",
    "import numpy as np\n",
    "import pandas as pd\n",
    "import matplotlib.pyplot as plt\n",
    "import math\n",
    "plt.style.use('seaborn-v0_8-whitegrid')\n",
    "\n",
    "import tol_colors as tc\n",
    "plt.rc('axes', prop_cycle=plt.cycler('color', list(tc.tol_cset('bright'))))\n",
    "#plt.cm.register_cmap('iridescent', tc.tol_cmap('iridescent'))\n",
    "plt.rc('image', cmap='iridescent')\n",
    "\n",
    "tex_fonts = {\n",
    "    # Use LaTeX to write all text\n",
    "    \"text.usetex\": True,\n",
    "    \"font.family\": \"serif\",\n",
    "    \"font.serif\": [\"Times\"],\n",
    "    # Use 10pt font in plots, to match 10pt font in document\n",
    "    \"axes.labelsize\": 12,\n",
    "    \"font.size\": 11, # same size as ticks label\n",
    "    # Make the legend/label fonts a little smaller\n",
    "    \"legend.fontsize\": 11,\n",
    "    \"xtick.labelsize\": 10,\n",
    "    \"ytick.labelsize\": 10,\n",
    "    \"lines.linewidth\": 1,\n",
    "    \"axes.titlesize\": 12\n",
    "}\n",
    "\n",
    "plt.rcParams.update(tex_fonts)"
   ]
  },
  {
   "attachments": {},
   "cell_type": "markdown",
   "id": "e584ddc5-dca4-4ed4-b2a6-4f46d7cfcee0",
   "metadata": {},
   "source": [
    "## Utils"
   ]
  },
  {
   "cell_type": "code",
   "execution_count": 2,
   "id": "5c9ca828-0fb2-40a3-b6e7-61ce0a5fdd84",
   "metadata": {},
   "outputs": [],
   "source": [
    "def get_latest_file(path, suffix):\n",
    "    paths = sorted(Path(path).iterdir(), key=os.path.getmtime, reverse=True)\n",
    "    paths = [str(p) for p in paths]\n",
    "    for p in paths:\n",
    "        if p.endswith(suffix):\n",
    "            return p\n",
    "\n",
    "def relative_std(x):\n",
    "  # https://github.com/pandas-dev/pandas/issues/33517\n",
    "  if not isinstance(x, pd.Series):\n",
    "        raise TypeError\n",
    "  \n",
    "  return np.nanstd(x)/np.nanmean(x)"
   ]
  },
  {
   "attachments": {},
   "cell_type": "markdown",
   "id": "34feceb2-8ccf-4153-b7d2-f2a60845ec1b",
   "metadata": {},
   "source": [
    "## Micro-Benchmarks\n",
    "### GPU / CPU Speedup\n",
    "#### Dense"
   ]
  },
  {
   "cell_type": "code",
   "execution_count": null,
   "id": "62b73660-085c-422c-bdbd-0a1ad2c8c2d3",
   "metadata": {},
   "outputs": [],
   "source": [
    "path_dense = get_latest_file(\"micro_benchmarks/data\", \"_dense.csv\")\n",
    "print(path_dense)\n",
    "dense_data = pd.read_csv(path_dense, skipinitialspace=True)\n",
    "dense_data = dense_data.drop(columns=[\"crt_base_size\", \"run\", \"q_acc\", \"gpu_mem_usage\"])\n",
    "dense_data = dense_data.groupby([\"dimensions\", \"type\"]).aggregate(['mean', 'std', relative_std])\n",
    "dense_data = dense_data.unstack()\n",
    "dense_data"
   ]
  },
  {
   "cell_type": "code",
   "execution_count": null,
   "id": "93a77742-42a9-4382-9942-948c785c2ccf",
   "metadata": {},
   "outputs": [],
   "source": [
    "dense_speedup = dense_data[\"runtime\"][\"mean\"][\"CPU\"]/dense_data[\"runtime\"][\"mean\"][\"GPU\"]\n",
    "dense_speedup"
   ]
  },
  {
   "attachments": {},
   "cell_type": "markdown",
   "id": "f95cafff-5852-405c-931a-8fda80a5e34c",
   "metadata": {},
   "source": [
    "#### Conv2d"
   ]
  },
  {
   "cell_type": "code",
   "execution_count": null,
   "id": "2eafd553-97ea-4ea5-a04e-1a5e260cf102",
   "metadata": {},
   "outputs": [],
   "source": [
    "path_conv2d = get_latest_file(\"micro_benchmarks/data\", \"_conv2d.csv\")\n",
    "print(path_conv2d)\n",
    "conv2d_data = pd.read_csv(path_conv2d, skipinitialspace=True)\n",
    "conv2d_data = conv2d_data.drop(columns=[\"crt_base_size\", \"run\", \"q_acc\"])\n",
    "conv2d_data = conv2d_data.groupby([\"dimensions\", \"type\"]).aggregate(['mean', 'std', relative_std])\n",
    "conv2d_data = conv2d_data.unstack()\n",
    "conv2d_data"
   ]
  },
  {
   "cell_type": "code",
   "execution_count": null,
   "id": "af4a77c8-09a8-4ed1-964a-0912a630c06c",
   "metadata": {},
   "outputs": [],
   "source": [
    "conv2d_speedup = conv2d_data[\"runtime\"][\"mean\"][\"CPU\"]/conv2d_data[\"runtime\"][\"mean\"][\"GPU\"]\n",
    "conv2d_speedup"
   ]
  },
  {
   "attachments": {},
   "cell_type": "markdown",
   "id": "a485bd88-c49b-4443-a8de-ee64dfc5601b",
   "metadata": {},
   "source": [
    "#### Approx. ReLU"
   ]
  },
  {
   "cell_type": "code",
   "execution_count": null,
   "id": "af85df12-4da7-4ee5-8e55-32946d9f3ada",
   "metadata": {},
   "outputs": [],
   "source": [
    "path_approx_relu = get_latest_file(\"micro_benchmarks/data\", \"_approx_relu.csv\")\n",
    "print(path_approx_relu)\n",
    "\n",
    "relu_data = pd.read_csv(path_approx_relu, skipinitialspace=True)\n",
    "relu_data = relu_data.drop(columns=[\"run\", \"q_acc\", \"crt_base_size\"])\n",
    "relu_data = relu_data.groupby([\"dimensions\", \"type\", \"relu_acc\"]).aggregate(['mean', 'std', relative_std])\n",
    "relu_data = relu_data.unstack([-2, -1])\n",
    "relu_data"
   ]
  },
  {
   "cell_type": "code",
   "execution_count": null,
   "id": "480a2e18-95ec-4ec8-b29b-77d938c2ad0c",
   "metadata": {},
   "outputs": [],
   "source": [
    "relu_speedup = relu_data[\"runtime\"][\"mean\"][\"CPU\"]/relu_data[\"runtime\"][\"mean\"][\"GPU\"]\n",
    "relu_speedup"
   ]
  },
  {
   "attachments": {},
   "cell_type": "markdown",
   "id": "b98ad6d0-8bd7-4552-bb03-ab652d056d89",
   "metadata": {},
   "source": [
    "#### Approx. Sign Activation"
   ]
  },
  {
   "cell_type": "code",
   "execution_count": null,
   "id": "d999917c-9033-4619-abbf-11c367fcf423",
   "metadata": {},
   "outputs": [],
   "source": [
    "path_approx_sign = get_latest_file(\"micro_benchmarks/data\", \"_sign_activation.csv\")\n",
    "print(path_approx_sign)\n",
    "\n",
    "\n",
    "sign_data = pd.read_csv(path_approx_sign, skipinitialspace=True)\n",
    "sign_data = sign_data.drop(columns=[\"run\", \"q_acc\", \"crt_base_size\"])\n",
    "sign_data = sign_data.groupby([\"dimensions\", \"type\", \"sign_acc\"]).aggregate(['mean', 'std', relative_std])\n",
    "sign_data = sign_data.unstack([-2, -1])\n",
    "sign_data"
   ]
  },
  {
   "cell_type": "code",
   "execution_count": null,
   "id": "4fb966f6-376f-469e-b40f-6120e99d583b",
   "metadata": {},
   "outputs": [],
   "source": [
    "sign_speedup = sign_data[\"runtime\"][\"mean\"][\"CPU\"]/sign_data[\"runtime\"][\"mean\"][\"GPU\"]\n",
    "sign_speedup"
   ]
  },
  {
   "attachments": {},
   "cell_type": "markdown",
   "id": "3df0a271",
   "metadata": {},
   "source": [
    "#### Rescaling"
   ]
  },
  {
   "cell_type": "code",
   "execution_count": null,
   "id": "ebb38bf3",
   "metadata": {},
   "outputs": [],
   "source": [
    "rescaling = get_latest_file(\"micro_benchmarks/data\", \"_rescaling.csv\")\n",
    "print(rescaling)\n",
    "\n",
    "\n",
    "rescaling_data = pd.read_csv(rescaling, skipinitialspace=True)\n",
    "rescaling_data = rescaling_data.drop(columns=[\"run\", \"crt_base_size\"])\n",
    "rescaling_data = rescaling_data.groupby([\"dimensions\", \"type\"]).aggregate(['mean', 'std', relative_std])\n",
    "rescaling_data = rescaling_data.unstack([-1])\n",
    "rescaling_data"
   ]
  },
  {
   "cell_type": "code",
   "execution_count": null,
   "id": "d10d5686",
   "metadata": {},
   "outputs": [],
   "source": [
    "rescaling_speedup = rescaling_data[\"runtime\"][\"mean\"][\"CPU\"]/rescaling_data[\"runtime\"][\"mean\"][\"GPU\"]\n",
    "rescaling_speedup"
   ]
  },
  {
   "attachments": {},
   "cell_type": "markdown",
   "id": "47693cd3-d7e8-4019-9949-30bf87d048fd",
   "metadata": {},
   "source": [
    "#### Plot"
   ]
  },
  {
   "cell_type": "code",
   "execution_count": null,
   "id": "32a8f874-d062-4522-b3f1-d91632ff7d29",
   "metadata": {},
   "outputs": [],
   "source": [
    "fig, ax = plt.subplots(figsize=(12, 1.5), nrows=1, ncols=5)\n",
    "# spcaing\n",
    "fig.subplots_adjust(left=0, bottom=None, right=None, top=None, wspace=0.15, hspace=None)\n",
    "\n",
    "# relu\n",
    "relu_speedup.plot(kind=\"bar\", ax=ax[0])\n",
    "ax[0].set_title(\"ReLU\")\n",
    "ax[0].set_xlabel(\"Dimension (power of 2)\")\n",
    "ax[0].set_xticklabels([7, 8, 9, 10, 11, 12, 13, 14], rotation = 0)\n",
    "ax[0].set_ylabel(\"Speedup\")\n",
    "ax[0].get_legend().remove()\n",
    "\n",
    "# sign\n",
    "sign_speedup.plot(kind=\"bar\", ax=ax[1])\n",
    "ax[1].set_title(\"Sign\")\n",
    "ax[1].set_xlabel(\"Dimension (power of 2)\")\n",
    "ax[1].set_xticklabels([7, 8, 9, 10, 11, 12, 13, 14], rotation = 0)\n",
    "ax[1].get_legend().remove()\n",
    "\n",
    "# dense\n",
    "dense_speedup.plot(kind=\"bar\", ax=ax[2])\n",
    "ax[2].set_title(\"Dense\")\n",
    "ax[2].set_xlabel(\"Dimension\")\n",
    "ax[2].set_xticklabels(ax[2].get_xticklabels(), rotation = 0)\n",
    "\n",
    "# conv2d\n",
    "conv2d_speedup.plot(kind=\"bar\", ax=ax[3])\n",
    "ax[3].set_title(\"Conv2D\")\n",
    "ax[3].set_xlabel(\"Dimension\")\n",
    "ax[3].set_xticklabels(['64x64x3', '128x128x3', '256x256x3'], rotation = 0)\n",
    "\n",
    "# rescaling\n",
    "rescaling_speedup.plot(kind=\"bar\", ax=ax[4])\n",
    "ax[4].set_title(\"Scaling\")\n",
    "ax[4].set_xlabel(\"Dimension (power of 2)\")\n",
    "ax[4].set_xticklabels([7, 8, 9, 10, 11, 12, 13, 14], rotation = 0)\n",
    "ax[4].set_xticklabels(ax[4].get_xticklabels(), rotation = 0)\n",
    "\n",
    "handles, labels = ax[0].get_legend_handles_labels()\n",
    "fig.legend(handles, [\"99.0\\%\", \"100.0\\% Sign-Gadget Accuracy\"], loc='lower center', bbox_to_anchor=(0.45, -0.4, 0, 0), ncols=2)\n",
    "\n",
    "fig.savefig('micro_benchmarks/data/all_speedup.pdf', format='pdf', bbox_inches='tight')"
   ]
  },
  {
   "cell_type": "markdown",
   "id": "3963f997",
   "metadata": {},
   "source": [
    "### GPU Memory Usage"
   ]
  },
  {
   "cell_type": "markdown",
   "id": "b826779c",
   "metadata": {},
   "source": [
    "##### Dense"
   ]
  },
  {
   "cell_type": "code",
   "execution_count": null,
   "id": "bba1df15",
   "metadata": {},
   "outputs": [],
   "source": [
    "path_dense = get_latest_file(\"micro_benchmarks/data\", \"_dense.csv\")\n",
    "print(path_dense)\n",
    "dense_data = pd.read_csv(path_dense, skipinitialspace=True)\n",
    "dense_data = dense_data[(dense_data[\"type\"] == \"GPU\") & (dense_data[\"run\"] >= 5)]\n",
    "dense_data = dense_data.drop(columns=[\"crt_base_size\", \"run\", \"q_acc\", \"runtime\", \"type\"])\n",
    "dense_data[\"gpu_mem_usage\"] /= (1024*1024)\n",
    "dense_data = dense_data.groupby([\"dimensions\"]).aggregate(['mean', 'std', relative_std])\n",
    "dense_data"
   ]
  },
  {
   "cell_type": "markdown",
   "id": "0e01e39f",
   "metadata": {},
   "source": [
    "#### Conv2d"
   ]
  },
  {
   "cell_type": "code",
   "execution_count": null,
   "id": "cc59a718",
   "metadata": {},
   "outputs": [],
   "source": [
    "path_conv2d = get_latest_file(\"micro_benchmarks/data\", \"_conv2d.csv\")\n",
    "print(path_conv2d)\n",
    "conv2d_data = pd.read_csv(path_conv2d, skipinitialspace=True)\n",
    "conv2d_data = conv2d_data[(conv2d_data[\"type\"] == \"GPU\") & (conv2d_data[\"run\"] >= 5)]\n",
    "conv2d_data = conv2d_data.drop(columns=[\"crt_base_size\", \"run\", \"q_acc\", \"runtime\", \"type\"])\n",
    "conv2d_data[\"gpu_mem_usage\"] /= (1024*1024)\n",
    "conv2d_data = conv2d_data.groupby([\"dimensions\"]).aggregate(['mean', 'std', relative_std])\n",
    "conv2d_data"
   ]
  },
  {
   "cell_type": "markdown",
   "id": "f77b86ce",
   "metadata": {},
   "source": [
    "#### Approx. ReLU"
   ]
  },
  {
   "cell_type": "code",
   "execution_count": null,
   "id": "327ab399",
   "metadata": {},
   "outputs": [],
   "source": [
    "path_approx_relu = get_latest_file(\"micro_benchmarks/data\", \"_approx_relu.csv\")\n",
    "print(path_approx_relu)\n",
    "\n",
    "relu_data = pd.read_csv(path_approx_relu, skipinitialspace=True)\n",
    "relu_data = relu_data[(relu_data[\"type\"] == \"GPU\") & (relu_data[\"run\"] >= 5)]\n",
    "relu_data = relu_data.drop(columns=[\"run\", \"q_acc\", \"crt_base_size\", \"runtime\", \"type\"])\n",
    "relu_data[\"gpu_mem_usage\"] /= (1024*1024)\n",
    "relu_data = relu_data.groupby([\"dimensions\", \"relu_acc\"]).aggregate(['mean', 'std', relative_std])\n",
    "relu_data = relu_data.unstack()\n",
    "relu_data"
   ]
  },
  {
   "cell_type": "code",
   "execution_count": null,
   "id": "b8c240cc",
   "metadata": {},
   "outputs": [],
   "source": [
    "# improvement factor \n",
    "factor = relu_data[\"gpu_mem_usage\"][\"mean\"]\n",
    "factor[100.0] / factor[99.0]"
   ]
  },
  {
   "cell_type": "markdown",
   "id": "058a8b78",
   "metadata": {},
   "source": [
    "#### Approx. Sign"
   ]
  },
  {
   "cell_type": "code",
   "execution_count": null,
   "id": "208076dc",
   "metadata": {},
   "outputs": [],
   "source": [
    "path_approx_sign = get_latest_file(\"micro_benchmarks/data\", \"_sign_activation.csv\")\n",
    "print(path_approx_sign)\n",
    "\n",
    "approx_sign_data = pd.read_csv(path_approx_sign, skipinitialspace=True)\n",
    "approx_sign_data = approx_sign_data[(approx_sign_data[\"type\"] == \"GPU\") & (approx_sign_data[\"run\"] >= 5)]\n",
    "approx_sign_data = approx_sign_data.drop(columns=[\"run\", \"q_acc\", \"crt_base_size\", \"runtime\", \"type\"])\n",
    "approx_sign_data[\"gpu_mem_usage\"] /= (1024*1024)\n",
    "approx_sign_data = approx_sign_data.groupby([\"dimensions\", \"sign_acc\"]).aggregate(['mean', 'std', relative_std])\n",
    "approx_sign_data = approx_sign_data.unstack()\n",
    "approx_sign_data"
   ]
  },
  {
   "cell_type": "code",
   "execution_count": null,
   "id": "88ccd701",
   "metadata": {},
   "outputs": [],
   "source": [
    "# improvement factor \n",
    "factor = approx_sign_data[\"gpu_mem_usage\"][\"mean\"]\n",
    "factor[100.0] / factor[99.0]"
   ]
  },
  {
   "cell_type": "markdown",
   "id": "99470b40",
   "metadata": {},
   "source": [
    "#### Rescaling"
   ]
  },
  {
   "cell_type": "code",
   "execution_count": null,
   "id": "59eaa8e4",
   "metadata": {},
   "outputs": [],
   "source": [
    "rescaling = get_latest_file(\"micro_benchmarks/data\", \"_rescaling.csv\")\n",
    "print(rescaling)\n",
    "\n",
    "rescaling_data = pd.read_csv(rescaling, skipinitialspace=True)\n",
    "rescaling_data = rescaling_data[(rescaling_data[\"type\"] == \"GPU\") & (rescaling_data[\"run\"] >= 5)]\n",
    "rescaling_data = rescaling_data.drop(columns=[\"run\", \"crt_base_size\", \"runtime\", \"type\"])\n",
    "rescaling_data[\"gpu_mem_usage\"] /= (1024*1024)\n",
    "rescaling_data = rescaling_data.groupby([\"dimensions\"]).aggregate(['mean', 'std', relative_std])\n",
    "rescaling_data"
   ]
  },
  {
   "cell_type": "markdown",
   "id": "9b49b8db",
   "metadata": {},
   "source": [
    "#### Plot"
   ]
  },
  {
   "cell_type": "code",
   "execution_count": null,
   "id": "ad428231",
   "metadata": {},
   "outputs": [],
   "source": [
    "fig, ax = plt.subplots(figsize=(12, 1.5), nrows=1, ncols=5)\n",
    "# spcaing\n",
    "fig.subplots_adjust(left=0, bottom=None, right=None, top=None, wspace=0.2, hspace=None)\n",
    "\n",
    "relu_data[\"gpu_mem_usage\"][\"mean\"].plot(kind=\"bar\", ax=ax[0], label=\"ReLU\")\n",
    "ax[0].set_title(\"ReLU\")\n",
    "ax[0].set_xlabel(\"Dimension (power of 2)\")\n",
    "ax[0].set_xticklabels([7, 8, 9, 10, 11, 12, 13, 14], rotation = 0)\n",
    "ax[0].set_ylabel(\"Memory Usage (MB)\")\n",
    "ax[0].get_legend().remove()\n",
    "\n",
    "approx_sign_data[\"gpu_mem_usage\"][\"mean\"].plot(kind=\"bar\", ax=ax[1], label=\"Sign\")\n",
    "ax[1].set_title(\"Sign\")\n",
    "ax[1].set_xlabel(\"Dimension (power of 2)\")\n",
    "ax[1].set_xticklabels([7, 8, 9, 10, 11, 12, 13, 14], rotation = 0)\n",
    "ax[1].set_yticks([0, 250, 500, 750, 1000])\n",
    "ax[1].get_legend().remove()\n",
    "\n",
    "dense_data[\"gpu_mem_usage\"][\"mean\"].plot(kind=\"bar\", ax=ax[2], label=\"Dense\")\n",
    "ax[2].set_title(\"Dense\")\n",
    "ax[2].set_xlabel(\"Dimension\")\n",
    "ax[2].set_yticks([0, 10, 20, 30, 40])\n",
    "ax[2].set_xticklabels(ax[2].get_xticklabels(), rotation = 0)\n",
    "\n",
    "conv2d_data[\"gpu_mem_usage\"][\"mean\"].plot(kind=\"bar\", ax=ax[3], label=\"Conv2D\")\n",
    "ax[3].set_title(\"Conv2D\")\n",
    "ax[3].set_xlabel(\"Dimension\")\n",
    "ax[3].set_xticklabels(['64x64x3', '128x128x3', '256x256x3'], rotation = 0)\n",
    "\n",
    "rescaling_data[\"gpu_mem_usage\"][\"mean\"].plot(kind=\"bar\", ax=ax[4], label=\"Scaling\")\n",
    "ax[4].set_title(\"Scaling\")\n",
    "ax[4].set_xlabel(\"Dimension (power of 2)\")\n",
    "ax[4].set_xticklabels([7, 8, 9, 10, 11, 12, 13, 14], rotation = 0)\n",
    "ax[4].set_xticklabels(ax[4].get_xticklabels(), rotation = 0)\n",
    "ax[4].set_yticks([0, 200, 400, 600, 800])\n",
    "\n",
    "handles, labels = ax[0].get_legend_handles_labels()\n",
    "fig.legend(handles, [\"99.0\\%\", \"100.0\\% Sign-Gadget Accuracy\"], loc='lower center', bbox_to_anchor=(0.45, -0.4, 0, 0), ncols=2)\n",
    "\n",
    "fig.savefig('micro_benchmarks/data/gpu_memory.pdf', format='pdf', bbox_inches='tight')"
   ]
  },
  {
   "attachments": {},
   "cell_type": "markdown",
   "id": "61358750-b216-4161-bced-f4f0eea7ac6b",
   "metadata": {},
   "source": [
    "### CPU-Scalability\n",
    "#### Approx. ReLU"
   ]
  },
  {
   "cell_type": "code",
   "execution_count": null,
   "id": "d737837f-6ffe-4016-b780-12182502d106",
   "metadata": {},
   "outputs": [],
   "source": [
    "path_relu_scale = get_latest_file(\"micro_benchmarks/data/scalability\", \"_approx_relu.csv\")\n",
    "print(path_relu_scale)\n",
    "\n",
    "relu_scale_data = pd.read_csv(path_relu_scale, skipinitialspace=True)\n",
    "relu_scale_data = relu_scale_data.drop(columns=[\"run\", \"q_acc\", \"crt_base_size\", \"relu_acc\", \"type\"])\n",
    "relu_scale_data = relu_scale_data.groupby([\"dims\", \"nr_threads\"]).aggregate(['mean', 'std', relative_std])\n",
    "relu_scale_data = relu_scale_data.unstack([-2])\n",
    "relu_scale_data"
   ]
  },
  {
   "attachments": {},
   "cell_type": "markdown",
   "id": "f647defd-b290-443a-a37b-04340e3eba3a",
   "metadata": {},
   "source": [
    "#### Sign Activation"
   ]
  },
  {
   "cell_type": "code",
   "execution_count": null,
   "id": "f5ba0bae-191a-4ff6-b0df-3cfbd6be4831",
   "metadata": {},
   "outputs": [],
   "source": [
    "path_sign_scale = get_latest_file(\"micro_benchmarks/data/scalability\", \"_sign_activation.csv\")\n",
    "print(path_sign_scale)\n",
    "\n",
    "sign_scale_data = pd.read_csv(path_sign_scale, skipinitialspace=True)\n",
    "sign_scale_data = sign_scale_data.drop(columns=[\"run\", \"crt_base_size\", \"type\"])\n",
    "sign_scale_data = sign_scale_data.groupby([\"dims\", \"nr_threads\"]).aggregate(['mean', 'std', relative_std])\n",
    "sign_scale_data = sign_scale_data.unstack([-2])\n",
    "sign_scale_data"
   ]
  },
  {
   "attachments": {},
   "cell_type": "markdown",
   "id": "ad9095ce-e0eb-442a-aa18-590bdb81ff90",
   "metadata": {},
   "source": [
    "#### Dense"
   ]
  },
  {
   "cell_type": "code",
   "execution_count": null,
   "id": "86e4892a-ab6a-4c06-83d8-8b3b592b9232",
   "metadata": {},
   "outputs": [],
   "source": [
    "path_dense_scale = get_latest_file(\"micro_benchmarks/data/scalability\", \"_dense.csv\")\n",
    "print(path_dense_scale)\n",
    "\n",
    "dense_scale_data = pd.read_csv(path_dense_scale, skipinitialspace=True)\n",
    "dense_scale_data = dense_scale_data.drop(columns=[\"run\", \"q_acc\", \"crt_base_size\", \"type\"])\n",
    "dense_scale_data = dense_scale_data.groupby([\"dims\", \"nr_threads\"]).aggregate(['mean', 'std', relative_std])\n",
    "dense_scale_data = dense_scale_data.unstack([-2])\n",
    "dense_scale_data"
   ]
  },
  {
   "attachments": {},
   "cell_type": "markdown",
   "id": "f5eb5f22-a88f-4513-80c9-0757232fafb3",
   "metadata": {},
   "source": [
    "#### Conv2d"
   ]
  },
  {
   "cell_type": "code",
   "execution_count": null,
   "id": "3c5c2d23-fb0e-4cc9-a4e3-42a6bba37adb",
   "metadata": {},
   "outputs": [],
   "source": [
    "path_conv2d_scale = get_latest_file(\"micro_benchmarks/data/scalability\", \"_conv2d.csv\")\n",
    "print(path_conv2d_scale)\n",
    "\n",
    "conv2d_scale_data = pd.read_csv(path_conv2d_scale, skipinitialspace=True)\n",
    "conv2d_scale_data = conv2d_scale_data.drop(columns=[\"run\", \"q_acc\", \"crt_base_size\", \"type\"])\n",
    "conv2d_scale_data = conv2d_scale_data.groupby([\"dims\", \"nr_threads\"]).aggregate(['mean', 'std', relative_std])\n",
    "conv2d_scale_data = conv2d_scale_data.unstack([-2])\n",
    "conv2d_scale_data"
   ]
  },
  {
   "attachments": {},
   "cell_type": "markdown",
   "id": "972dbe12",
   "metadata": {},
   "source": [
    "#### Rescaling"
   ]
  },
  {
   "cell_type": "code",
   "execution_count": null,
   "id": "0a5591ba",
   "metadata": {},
   "outputs": [],
   "source": [
    "path_rescaling_scale = get_latest_file(\"micro_benchmarks/data/scalability\", \"_rescaling.csv\")\n",
    "print(path_rescaling_scale)\n",
    "\n",
    "rescaling_scale_data = pd.read_csv(path_rescaling_scale, skipinitialspace=True)\n",
    "rescaling_scale_data = rescaling_scale_data.drop(columns=[\"run\", \"crt_base_size\", \"type\"])\n",
    "rescaling_scale_data = rescaling_scale_data.groupby([\"dims\", \"nr_threads\"]).aggregate(['mean', 'std', relative_std])\n",
    "rescaling_scale_data = rescaling_scale_data.unstack([-2])\n",
    "rescaling_scale_data"
   ]
  },
  {
   "attachments": {},
   "cell_type": "markdown",
   "id": "ec1454a3-fb8b-4068-b8f1-0582290da87b",
   "metadata": {},
   "source": [
    "#### Plot"
   ]
  },
  {
   "cell_type": "code",
   "execution_count": null,
   "id": "9f07db41-a2c6-4c14-bb4e-43900a35ba21",
   "metadata": {},
   "outputs": [],
   "source": [
    "fig, ax = plt.subplots(figsize=(12.5, 1.5), nrows=1, ncols=5)\n",
    "# spcaing\n",
    "fig.subplots_adjust(left=0, bottom=None, right=None, top=None, wspace=0.15, hspace=None)\n",
    "\n",
    "# relu\n",
    "relu_scale_data[\"runtime\"][\"mean\"].plot(logy=True, ax=ax[0], marker='x')\n",
    "ax[0].set_title(\"ReLU\")\n",
    "ax[0].set_xlabel(\"Number of Threads\")\n",
    "ax[0].xaxis.set_ticks(np.arange(2, 18, 2))\n",
    "ax[0].set_ylabel(\"Runtime (ms)\")\n",
    "ax[0].legend(loc=\"lower left\", bbox_to_anchor=(0,-0.65), ncols=3, handletextpad=0.4, columnspacing=0.4, handlelength=1)\n",
    "\n",
    "# sign\n",
    "sign_scale_data[\"runtime\"][\"mean\"].plot(logy=True, ax=ax[1], marker='x')\n",
    "ax[1].set_title(\"Sign\")\n",
    "ax[1].set_xlabel(\"Number of Threads\")\n",
    "ax[1].xaxis.set_ticks(np.arange(2, 18, 2))\n",
    "ax[1].legend(loc=\"lower left\", bbox_to_anchor=(0,-0.65), ncols=3, handletextpad=0.4, columnspacing=0.4, handlelength=1)\n",
    "\n",
    "# dense\n",
    "dense_scale_data[\"runtime\"][\"mean\"].plot(logy=True, ax=ax[2], marker='x')\n",
    "ax[2].set_title(\"Dense\")\n",
    "ax[2].set_xlabel(\"Number of Threads\")\n",
    "ax[2].xaxis.set_ticks(np.arange(2, 18, 2))\n",
    "ax[2].legend(loc=\"lower left\", bbox_to_anchor=(0.05,-0.65), ncols=3, handletextpad=0.4, columnspacing=0.4, handlelength=1)\n",
    "\n",
    "# conv\n",
    "conv2d_scale_data[\"runtime\"][\"mean\"].plot(logy=True, ax=ax[3], marker='x')\n",
    "ax[3].set_title(\"Conv2D\")\n",
    "ax[3].set_xlabel(\"Number of Threads\")\n",
    "ax[3].xaxis.set_ticks(np.arange(2, 18, 2))\n",
    "ax[3].legend(labels=['64x64x3', '128x128x3', '256x256x3'], loc=\"lower left\", bbox_to_anchor=(-0.15,-0.65), ncols=3, handletextpad=0.4, columnspacing=0.4, handlelength=0.5)\n",
    "\n",
    "# rescale\n",
    "sign_scale_data[\"runtime\"][\"mean\"].plot(logy=True, ax=ax[4], marker='x')\n",
    "ax[4].set_title(\"Scaling\")\n",
    "ax[4].set_xlabel(\"Number of Threads\")\n",
    "ax[4].xaxis.set_ticks(np.arange(2, 18, 2))\n",
    "ax[4].legend(loc=\"lower left\", bbox_to_anchor=(0,-0.65), ncols=3, handletextpad=0.4, columnspacing=0.4, handlelength=1)\n",
    "\n",
    "fig.savefig('micro_benchmarks/data/scalability.pdf', format='pdf', bbox_inches='tight')"
   ]
  },
  {
   "cell_type": "markdown",
   "id": "b5530c72",
   "metadata": {},
   "source": [
    "### Merged Plots"
   ]
  },
  {
   "cell_type": "code",
   "execution_count": null,
   "id": "8dde47fd",
   "metadata": {},
   "outputs": [],
   "source": [
    "fig, ax = plt.subplots(figsize=(12, 1.5), nrows=1, ncols=5)\n",
    "# spcaing\n",
    "fig.subplots_adjust(left=0, bottom=None, right=None, top=None, wspace=0.15, hspace=None)\n",
    "\n",
    "# relu\n",
    "relu_speedup.plot(kind=\"bar\", ax=ax[0])\n",
    "ax[0].set_title(\"ReLU\")\n",
    "ax[0].set_xlabel(\"Dimension (power of 2)\")\n",
    "ax[0].set_xticklabels([7, 8, 9, 10, 11, 12, 13, 14], rotation = 0)\n",
    "ax[0].set_ylabel(\"Speedup\")\n",
    "ax[0].get_legend().remove()\n",
    "\n",
    "# sign\n",
    "sign_speedup.plot(kind=\"bar\", ax=ax[1])\n",
    "ax[1].set_title(\"Sign\")\n",
    "ax[1].set_xlabel(\"Dimension (power of 2)\")\n",
    "ax[1].set_xticklabels([7, 8, 9, 10, 11, 12, 13, 14], rotation = 0)\n",
    "ax[1].get_legend().remove()\n",
    "\n",
    "# dense\n",
    "dense_speedup.plot(kind=\"bar\", ax=ax[2])\n",
    "ax[2].set_title(\"Dense\")\n",
    "ax[2].set_xlabel(\"Dimension\")\n",
    "ax[2].set_xticklabels(ax[2].get_xticklabels(), rotation = 0)\n",
    "\n",
    "# conv2d\n",
    "conv2d_speedup.plot(kind=\"bar\", ax=ax[3])\n",
    "ax[3].set_title(\"Conv2D\")\n",
    "ax[3].set_xlabel(\"Dimension\")\n",
    "ax[3].set_xticklabels(['64x64x3', '128x128x3', '256x256x3'], rotation = 0)\n",
    "\n",
    "# rescaling\n",
    "rescaling_speedup.plot(kind=\"bar\", ax=ax[4])\n",
    "ax[4].set_title(\"Scaling\")\n",
    "ax[4].set_xlabel(\"Dimension (power of 2)\")\n",
    "ax[4].set_xticklabels([7, 8, 9, 10, 11, 12, 13, 14], rotation = 0)\n",
    "ax[4].set_xticklabels(ax[4].get_xticklabels(), rotation = 0)\n",
    "\n",
    "handles, labels = ax[0].get_legend_handles_labels()\n",
    "fig.legend(handles, [\"99.0\\%\", \"100.0\\% Sign-Gadget Accuracy\"], loc='lower center', bbox_to_anchor=(0.45, -0.4, 0, 0), ncols=2)\n",
    "\n",
    "fig.savefig('micro_benchmarks/data/all_speedup.pdf', format='pdf', bbox_inches='tight')"
   ]
  },
  {
   "attachments": {},
   "cell_type": "markdown",
   "id": "b12178e4-bf32-481a-92ff-a2825ee973b6",
   "metadata": {
    "tags": []
   },
   "source": [
    "## Model Benchmarks"
   ]
  },
  {
   "cell_type": "code",
   "execution_count": null,
   "id": "565b7cab-a4ed-4c72-b54b-1e99d364dd58",
   "metadata": {},
   "outputs": [],
   "source": [
    "#path_models = get_latest_file(\"model_benchmarks/data\", \"_plain_models.csv\")\n",
    "path_models = get_latest_file(\"model_benchmarks/data\", \"_sgx_models.csv\")\n",
    "print(path_models)\n",
    "models_data = pd.read_csv(path_models, skipinitialspace=True)\n",
    "models_data = models_data[models_data[\"relu_acc\"] == 100]\n",
    "models_data = models_data.drop(columns=[\"target_crt_base_size\", \"label\", \"infered_label\", \"relu_acc\"])\n",
    "models_data = models_data.groupby([\"model\", \"type\"]).aggregate(['mean', 'std', relative_std])\n",
    "models_data = models_data.unstack()\n",
    "models_data"
   ]
  },
  {
   "attachments": {},
   "cell_type": "markdown",
   "id": "f287f699-dcb3-4cea-a714-b68b96237898",
   "metadata": {},
   "source": [
    "### Add available data of other frameworks"
   ]
  },
  {
   "cell_type": "code",
   "execution_count": null,
   "id": "f46e68ca-b34f-499d-a2ef-82cf9d4636d8",
   "metadata": {},
   "outputs": [],
   "source": [
    "# Reset the index so that we can iterate through the numbers.\n",
    "# This will help us to get the x tick positions\n",
    "df = models_data[\"runtime\"][\"mean\"]\n",
    "df = df.reset_index()\n",
    "# Add data from gnn paper\n",
    "df[\"GNNP\"] = [60, 1520, 210, 3340, 7, 3, 97000, np.nan]\n",
    "df[\"SecureML\"] = [180, np.nan, np.nan, np.nan, np.nan, np.nan, np.nan, np.nan]\n",
    "df[\"MiniONN\"] = [140, 400, np.nan, 5740, np.nan, np.nan, np.nan, 72000]\n",
    "df[\"GAZELLE\"] = [30, 30, 50, 329, np.nan, np.nan, np.nan, 3560]\n",
    "df[\"CryptoNets\"] = [np.nan, 297500, np.nan, np.nan, np.nan, np.nan, np.nan, np.nan]\n",
    "df[\"DeepSecure\"] = [np.nan, np.nan, 9670, np.nan, np.nan, np.nan, np.nan, np.nan]\n",
    "df[\"ExPC\"] = [np.nan, np.nan, np.nan, 5100, np.nan, np.nan, np.nan, np.nan]\n",
    "df[\"FHE-DiNN\"] = [np.nan, np.nan, np.nan, np.nan, 400, 1650, np.nan, np.nan]\n",
    "df[\"MUSE/SIMC\"] = [np.nan, np.nan, np.nan, 800, np.nan, np.nan, np.nan, 7860]\n",
    "df[\"model\"] = df[\"model\"].apply(lambda x: x.removeprefix(\"MODEL_\"))\n",
    "df"
   ]
  },
  {
   "cell_type": "code",
   "execution_count": null,
   "id": "42aed7e3-4203-4330-af77-8734f39d29ae",
   "metadata": {},
   "outputs": [],
   "source": [
    "# Remove realy old and slow frameworks from the comparison\n",
    "df = df.drop(columns = [\"FHE-DiNN\", \"ExPC\"])\n",
    "df = df[(df.model != \"E_100\") & (df.model != \"E_30\")]\n",
    "df"
   ]
  },
  {
   "attachments": {},
   "cell_type": "markdown",
   "id": "c2060372-0831-4351-9745-ef6d5b2223a6",
   "metadata": {},
   "source": [
    "### Compute communication overhead in theoretical model"
   ]
  },
  {
   "cell_type": "code",
   "execution_count": null,
   "id": "6cae6414-567a-4fd7-a756-59b7786370f3",
   "metadata": {},
   "outputs": [],
   "source": [
    "# Communication Overhead in Dash compressed labels\n",
    "\n",
    "input_size_mnist = 28 * 28 * 1\n",
    "input_size_cifar10 = 32 * 32 * 3\n",
    "\n",
    "def compute_comm_overhead_size(input_size, crt_base_size):\n",
    "    overhead = 1\n",
    "    effective_transfer_speed = 1 * pow(10, 9) # 1 Gigabits\n",
    "    plain_datatype = 16 # bit\n",
    "    quantized_datatype = 64 # bit\n",
    "    output_size = 10 # nr classes\n",
    "    compressed_label_size = 128 # bit\n",
    "    \n",
    "    garbled_input_size = input_size * crt_base_size * compressed_label_size\n",
    "    garbled_output_size = output_size * crt_base_size * compressed_label_size\n",
    "    communication_size = input_size * plain_datatype # communicate plain input\n",
    "    communication_size = communication_size + garbled_input_size\n",
    "    communication_size = communication_size + garbled_output_size\n",
    "    communication_size = communication_size + output_size * quantized_datatype\n",
    "    mb = communication_size / 8 / 1024 / 1024\n",
    "    return mb\n",
    "\n",
    "comm_overhead_size = dict()\n",
    "comm_overhead_size[\"A\"] = compute_comm_overhead_size(input_size_mnist, 8)\n",
    "comm_overhead_size[\"B\"] = compute_comm_overhead_size(input_size_mnist, 9)\n",
    "comm_overhead_size[\"C\"] = compute_comm_overhead_size(input_size_mnist, 9)\n",
    "comm_overhead_size[\"D\"] = compute_comm_overhead_size(input_size_mnist, 8)\n",
    "comm_overhead_size[\"F_GNNP_POOL_REPL\"] = compute_comm_overhead_size(input_size_cifar10, 7)\n",
    "comm_overhead_size[\"F_MINIONN_POOL_REPL\"] = compute_comm_overhead_size(input_size_cifar10, 7)\n",
    "\n",
    "print(\"Communication Overhead (Size):\")\n",
    "for key, value in comm_overhead_size.items():\n",
    "    print(f\"MODEL-{key}: {value} mb\")\n",
    "\n",
    "def compute_comm_overhead(input_size, crt_base_size):\n",
    "    overhead = 1\n",
    "    effective_transfer_speed = 1 * pow(10, 9) # 1 Gigabits\n",
    "    plain_datatype = 16 # bit\n",
    "    quantized_datatype = 64 # bit\n",
    "    output_size = 10 # nr classes\n",
    "    compressed_label_size = 128 # bit\n",
    "    \n",
    "    garbled_input_size = input_size * crt_base_size * compressed_label_size\n",
    "    garbled_output_size = output_size * crt_base_size * compressed_label_size\n",
    "    communication_size = input_size * plain_datatype # communicate plain input\n",
    "    communication_size = communication_size + garbled_input_size\n",
    "    communication_size = communication_size + garbled_output_size\n",
    "    communication_size = communication_size + output_size * quantized_datatype\n",
    "    transfer_time = communication_size / effective_transfer_speed\n",
    "    milliseconds = transfer_time * 1000\n",
    "    milliseconds = milliseconds + milliseconds * overhead\n",
    "    return milliseconds\n",
    "    \n",
    "comm_overhead = dict()\n",
    "comm_overhead[\"A\"] = compute_comm_overhead(input_size_mnist, 8)\n",
    "comm_overhead[\"B\"] = compute_comm_overhead(input_size_mnist, 9)\n",
    "comm_overhead[\"C\"] = compute_comm_overhead(input_size_mnist, 9)\n",
    "comm_overhead[\"D\"] = compute_comm_overhead(input_size_mnist, 8)\n",
    "comm_overhead[\"F_GNNP_POOL_REPL\"] = compute_comm_overhead(input_size_cifar10, 7)\n",
    "comm_overhead[\"F_MINIONN_POOL_REPL\"] = compute_comm_overhead(input_size_cifar10, 7)\n",
    "\n",
    "print(\"Communication Overhead (Time):\")\n",
    "for key, value in comm_overhead.items():\n",
    "    print(f\"MODEL-{key}: {value} ms\")"
   ]
  },
  {
   "attachments": {},
   "cell_type": "markdown",
   "id": "3ea96037-2a2e-46c9-964d-321b018a8120",
   "metadata": {},
   "source": [
    "### Distribution of computation and communication over whole runtime in ms"
   ]
  },
  {
   "cell_type": "code",
   "execution_count": null,
   "id": "7109a196-66fd-4fda-9092-474ef4e1a771",
   "metadata": {},
   "outputs": [],
   "source": [
    "# Plot runtime divided into compute- and communication-time\n",
    "tmp = df[df.model != \"F_GNNP_POOL_REPL\"]\n",
    "tmp = tmp[tmp.model != \"F_MINIONN_POOL_REPL\"]\n",
    "\n",
    "fig, ax = plt.subplots(figsize=(3.5,0.7))\n",
    "ax.barh(tmp.model, tmp.GPU + list(comm_overhead.values())[:-2], label=\"Communication\")\n",
    "ax.barh(tmp.model, tmp.GPU, label=\"Computation\")\n",
    "ax.set_xlabel(\"Runtime (ms)\")\n",
    "ax.set_ylabel(\"Model\")\n",
    "ax.legend(loc='upper left', bbox_to_anchor=(-0.1, -0.5, 0, 0), ncols=2)\n",
    "fig.savefig('model_benchmarks/data/distribution_communication_computation.pdf', format='pdf', bbox_inches='tight')"
   ]
  },
  {
   "attachments": {},
   "cell_type": "markdown",
   "id": "222e339f-db1b-4b94-9a62-8604dc6c2943",
   "metadata": {},
   "source": [
    "### Distribution of computation and communication over whole runtime in percent"
   ]
  },
  {
   "cell_type": "code",
   "execution_count": null,
   "id": "a55ea90f-c0ed-4879-90ee-03d93f1c76b4",
   "metadata": {},
   "outputs": [],
   "source": [
    "list(comm_overhead.values()) / (df[\"GPU\"] + list(comm_overhead.values()))"
   ]
  },
  {
   "attachments": {},
   "cell_type": "markdown",
   "id": "b702719b-151a-420b-8820-1cf115ef6fe8",
   "metadata": {},
   "source": [
    "### Comparison of Dash's model runtimes against other frameworks"
   ]
  },
  {
   "cell_type": "code",
   "execution_count": null,
   "id": "2059178a-dd45-4754-87bc-32d17d9ad9a8",
   "metadata": {},
   "outputs": [],
   "source": [
    "# Add communication overhead to computation runtime\n",
    "comm_overhead = list(comm_overhead.values())\n",
    "df.GPU = df.GPU + comm_overhead\n",
    "df.CPU = df.CPU + comm_overhead\n",
    "df"
   ]
  },
  {
   "cell_type": "code",
   "execution_count": null,
   "id": "b7f13608-b530-4d7c-bf25-3cc88b689a86",
   "metadata": {},
   "outputs": [],
   "source": [
    "# Plot Runtimes\n",
    "colors = plt.rcParams['axes.prop_cycle'].by_key()['color']\n",
    "hatches = ['','//', '\\\\\\\\', '||', '--', '++', 'xx', 'oo', 'OO', '..', '**']\n",
    "#color_hatch_combinations = [(c, h) for h in hatches for c in colors]\n",
    "color_hatch_combinations = [(colors[i % (len(colors)-1)], h) for i, h in enumerate(hatches)]\n",
    "\n",
    "# See also https://stackoverflow.com/questions/53399022/pandas-plot-bar-without-nan-values-spaces\n",
    "fig, ax = plt.subplots(figsize=(12.5, 1.5))\n",
    "ax.set_yscale('log')\n",
    "ax.set_yticks([10, 100, 1000, 10000, 100000])\n",
    "\n",
    "# Width of bars\n",
    "width = 1\n",
    "\n",
    "# Create emptly lists for x tick positions and names\n",
    "x_ticks, x_ticks_pos = [], []\n",
    "\n",
    "# Counter for helping with x tick positions\n",
    "count = 0\n",
    "\n",
    "my_labels = []\n",
    "\n",
    "# Go through each row of the dataframe\n",
    "for idx, row in df.iterrows():\n",
    "    # This will be the first bar position for this row\n",
    "    count += 1\n",
    "    \n",
    "    model = row[\"model\"]\n",
    "\n",
    "    sorted_row = row[1:].copy()\n",
    "    sorted_row = sorted_row.sort_values()\n",
    "\n",
    "    # This will be the start of the first bar for this row\n",
    "    start_idx = count - width / 2\n",
    "    # This will be the end of the last bar for this row\n",
    "    end_idx = start_idx\n",
    "    # For each column in the wanted columns,\n",
    "    # if the row is not null,\n",
    "    # add the bar to the plot\n",
    "    # Also update the end position of the bars for this row\n",
    "    # for column_idx, column in enumerate(df.drop([\"model\"], axis=1).columns):\n",
    "    #     # This checks if the row had any not NULL value in the desired columns\n",
    "    #     # in other words, it checks if there was any bar for this row\n",
    "    #     if row[column] == row[column]:\n",
    "    #         ax.bar(count, row[column], color=colors[column_idx], width=width, label=column)\n",
    "    #         count += 1\n",
    "    #         end_idx += width\n",
    "\n",
    "    for row_index, v in enumerate(sorted_row.index):\n",
    "        if sorted_row[v] == sorted_row[v]:\n",
    "            c, h = color_hatch_combinations[row.index.get_loc(v)-1]\n",
    "            ax.bar(count, sorted_row.iloc[row_index], color=c, hatch=h, width=width, label=v)\n",
    "            if v not in my_labels:\n",
    "                my_labels.append(v)\n",
    "            count += 1\n",
    "            end_idx += width\n",
    "\n",
    "    # This checks if the row had any not NULL value in the desired columns\n",
    "    # in other words, it checks if there was any bar for this row\n",
    "    # if yes, add the center of all the row's bars and the row's name (A,B,C) to the respective lists\n",
    "    if end_idx != start_idx:\n",
    "        x_ticks_pos.append((end_idx + start_idx) / 2)\n",
    "        x_ticks.append(model)\n",
    "\n",
    "# Now set the x_ticks\n",
    "ax.set_xticks(x_ticks_pos, x_ticks)\n",
    "ax.set_xticklabels([\"MODEL-A\", \"MODEL-B\", \"MODEL-C\", \"MODEL-D\", \"MODEL-F-SMALL\", \"MODEL-F\"])\n",
    "ax.set_ylabel(\"Runtime (ms)\")\n",
    "\n",
    "# Modify my_labels\n",
    "for idx, l in enumerate(my_labels):\n",
    "    if l == \"CPU\":\n",
    "        my_labels[idx] = \"Dash (CPU)\"\n",
    "    elif l == \"GPU\":\n",
    "        my_labels[idx] = \"Dash (GPU)\"\n",
    "\n",
    "# Also plot the legends\n",
    "# and make sure to not display duplicate labels\n",
    "# The below code is taken from:\n",
    "# https://stackoverflow.com/questions/13588920/stop-matplotlib-repeating-labels-in-legend\n",
    "handles, labels = ax.get_legend_handles_labels()\n",
    "by_label = dict(zip(labels, handles))\n",
    "ax.legend(by_label.values(), my_labels, loc='lower center', bbox_to_anchor=(0.5, -0.7, 0, 0), ncols=5)\n",
    "fig.savefig('model_benchmarks/data/models_runtime_comparison.pdf', format='pdf', bbox_inches='tight')"
   ]
  },
  {
   "cell_type": "code",
   "execution_count": null,
   "id": "3888ca49",
   "metadata": {},
   "outputs": [],
   "source": [
    "print(colors)"
   ]
  },
  {
   "cell_type": "markdown",
   "id": "655ee611",
   "metadata": {},
   "source": [
    "### Runtime Distribution over Layer-Types"
   ]
  },
  {
   "cell_type": "code",
   "execution_count": null,
   "id": "551e19fa",
   "metadata": {},
   "outputs": [],
   "source": [
    "path_models = get_latest_file(\"model_benchmarks/data\", \"_runtime_distribution_evaluation.csv\")\n",
    "print(path_models)\n",
    "runtime_dist_data = pd.read_csv(path_models, skipinitialspace=True)\n",
    "runtime_dist_data[runtime_dist_data[\"relu_acc\"] == 100]\n",
    "\n",
    "runtime_dist_data = runtime_dist_data.drop(columns=[\"target_crt_base_size\", \"relu_acc\"])\n",
    "runtime_dist_data = runtime_dist_data.groupby([\"model\", \"type\", \"layer\"]).aggregate(['mean', 'std', relative_std])\n",
    "\n",
    "# add 0 second entries for missing layers (not all models contain all layers)\n",
    "runtime_dist_data = runtime_dist_data.unstack(0)[\"runtime\"][\"mean\"]\n",
    "runtime_dist_data.fillna(0, inplace=True)\n",
    "runtime_dist_data"
   ]
  },
  {
   "cell_type": "code",
   "execution_count": null,
   "id": "482a18ec",
   "metadata": {},
   "outputs": [],
   "source": [
    "raw_data_cpu = dict()\n",
    "raw_data_gpu = dict()\n",
    "for model in runtime_dist_data.columns:\n",
    "    s = runtime_dist_data[model][\"CPU\"].sum()\n",
    "    for layer in runtime_dist_data[model][\"CPU\"].index:\n",
    "        if layer not in raw_data_cpu:\n",
    "            raw_data_cpu[layer] = []\n",
    "        raw_data_cpu[layer].append(runtime_dist_data[model][\"CPU\"][layer] / s * 100)\n",
    "\n",
    "for model in runtime_dist_data.columns:\n",
    "    s = runtime_dist_data[model][\"GPU\"].sum()\n",
    "    for layer in runtime_dist_data[model][\"GPU\"].index:\n",
    "        if layer not in raw_data_gpu:\n",
    "            raw_data_gpu[layer] = []\n",
    "        raw_data_gpu[layer].append(runtime_dist_data[model][\"GPU\"][layer] / s * 100)\n",
    "\n",
    "model_names = [\n",
    "    \"A\",\n",
    "    \"B\",\n",
    "    \"C\",\n",
    "    \"D\",\n",
    "    \"E-100\",\n",
    "    \"E-30\",\n",
    "    \"F-SMALL\",\n",
    "    \"F\",\n",
    "]\n",
    "\n",
    "colors = plt.rcParams['axes.prop_cycle'].by_key()['color']\n",
    "hatches = ['','//', '\\\\\\\\', '||', '--', '++', 'xx', 'oo', 'OO', '..', '**']\n",
    "#color_hatch_combinations = [(c, h) for h in hatches for c in colors]\n",
    "color_hatch_combinations = [(colors[i % (len(colors)-1)], h) for i, h in enumerate(hatches)]\n",
    "\n",
    "fig, ax = plt.subplots(figsize=(10, 2.7), nrows=1, ncols=2, sharey=True)\n",
    "fig.tight_layout(pad=2.8)\n",
    "left_cpu = len(runtime_dist_data.columns)*[0]\n",
    "left_gpu = len(runtime_dist_data.columns)*[0]\n",
    "color_cnt = 0\n",
    "for idx, layer in enumerate(raw_data_cpu):\n",
    "    c, h = color_hatch_combinations[idx]\n",
    "    ax[0].barh(model_names, raw_data_cpu[layer], left=left_cpu, label=layer, color=c, hatch=h)\n",
    "    left_cpu = [x + y for x, y in zip(left_cpu, raw_data_cpu[layer])]\n",
    "    ax[1].barh(model_names, raw_data_gpu[layer], left=left_gpu, label=layer, color=c, hatch=h)\n",
    "    left_gpu = [x + y for x, y in zip(left_gpu, raw_data_gpu[layer])]\n",
    "\n",
    "ax[0].set_title(\"CPU Evaluation\")\n",
    "ax[0].set_xlabel(\"Runtime in \\%\")\n",
    "ax[1].set_title(\"GPU Evaluation\")\n",
    "ax[1].set_xlabel(\"Runtime in \\%\")\n",
    "ax[0].set_ylabel(\"Model\")\n",
    "\n",
    "handles, labels = ax[0].get_legend_handles_labels()\n",
    "by_label = dict(zip(labels, handles))\n",
    "layer = [\"ReLU\", \"Conv2D\", \"Dense\", \"Rescale\", \"Sign\"]\n",
    "ax[0].legend(\n",
    "    by_label.values(),\n",
    "    layer,\n",
    "    loc=\"lower center\",\n",
    "    bbox_to_anchor=(1.1, -0.5, 0, 0),\n",
    "    ncol=5,\n",
    ")\n",
    "fig.savefig('model_benchmarks/data/runtime_distribution_layer.pdf', format='pdf', bbox_inches='tight')\n"
   ]
  }
 ],
 "metadata": {
  "kernelspec": {
   "display_name": "dash",
   "language": "python",
   "name": "python3"
  },
  "language_info": {
   "codemirror_mode": {
    "name": "ipython",
    "version": 3
   },
   "file_extension": ".py",
   "mimetype": "text/x-python",
   "name": "python",
   "nbconvert_exporter": "python",
   "pygments_lexer": "ipython3",
   "version": "3.9.10"
  }
 },
 "nbformat": 4,
 "nbformat_minor": 5
}
